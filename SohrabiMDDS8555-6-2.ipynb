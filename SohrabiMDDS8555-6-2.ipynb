{
 "cells": [
  {
   "cell_type": "markdown",
   "id": "719efd5b-6101-4abc-9455-d50d634846fe",
   "metadata": {},
   "source": [
    "## Assignment 6, Question 2"
   ]
  },
  {
   "cell_type": "code",
   "execution_count": 3,
   "id": "3ef25c7e-059b-4945-9a03-eff3cfef60aa",
   "metadata": {},
   "outputs": [
    {
     "name": "stdout",
     "output_type": "stream",
     "text": [
      "LinearRegression - MSE: 4.0957, R2: 0.6005\n"
     ]
    }
   ],
   "source": [
    "import pandas as pd\n",
    "from sklearn.model_selection import train_test_split\n",
    "from sklearn.preprocessing import OneHotEncoder\n",
    "from sklearn.compose import ColumnTransformer\n",
    "from sklearn.pipeline import Pipeline\n",
    "from sklearn.linear_model import LinearRegression\n",
    "from sklearn.ensemble import RandomForestRegressor, GradientBoostingRegressor\n",
    "from sklearn.metrics import mean_squared_error, r2_score\n",
    "from ISLP.bart import BART\n",
    "\n",
    "df = pd.read_csv(\"C:/Users/msohr/Desktop/NU/DDS-8555/Abalone/train.csv\")\n",
    "df.drop(columns=[\"id\"], inplace=True)\n",
    "\n",
    "X = df.drop(columns=[\"Rings\"])\n",
    "y = df[\"Rings\"]\n",
    "\n",
    "categorical_features = [\"Sex\"]\n",
    "numeric_features = X.columns.drop(categorical_features).tolist()\n",
    "\n",
    "preprocessor = ColumnTransformer([\n",
    "    (\"cat\", OneHotEncoder(drop=\"first\"), categorical_features)\n",
    "], remainder=\"passthrough\")\n",
    "\n",
    "X_train, X_test, y_train, y_test = train_test_split(X, y, test_size=0.2, random_state=55)\n",
    "\n",
    "X_train_transformed = preprocessor.fit_transform(X_train)\n",
    "X_test_transformed = preprocessor.transform(X_test)\n",
    "results = {}\n",
    "\n",
    "model=LinearRegression()\n",
    "model.fit(X_train_transformed, y_train)\n",
    "y_pred = model.predict(X_test_transformed)\n",
    "mse = mean_squared_error(y_test, y_pred)\n",
    "r2 = r2_score(y_test, y_pred)\n",
    "results[\"LinearRegression\"] = {\"MSE\": mse, \"R2\": r2}\n",
    "print(f\"LinearRegression - MSE: {mse:.4f}, R2: {r2:.4f}\")"
   ]
  },
  {
   "cell_type": "code",
   "execution_count": 4,
   "id": "f500eeac-8a58-466f-9c4d-4c15c39f5367",
   "metadata": {},
   "outputs": [
    {
     "name": "stdout",
     "output_type": "stream",
     "text": [
      "Boosting - MSE: 3.5634, R2: 0.6524\n"
     ]
    }
   ],
   "source": [
    "model=GradientBoostingRegressor(n_estimators=5000, learning_rate=0.001, max_depth=5, random_state=55)\n",
    "model.fit(X_train_transformed, y_train)\n",
    "y_pred = model.predict(X_test_transformed)\n",
    "mse = mean_squared_error(y_test, y_pred)\n",
    "r2 = r2_score(y_test, y_pred)\n",
    "results[\"Boosting\"] = {\"MSE\": mse, \"R2\": r2}\n",
    "print(f\"Boosting - MSE: {mse:.4f}, R2: {r2:.4f}\")"
   ]
  },
  {
   "cell_type": "code",
   "execution_count": 6,
   "id": "d54d70aa-14a0-4254-ac34-beb7d0a96382",
   "metadata": {},
   "outputs": [
    {
     "name": "stdout",
     "output_type": "stream",
     "text": [
      "Bagging - MSE: 3.6247, R2: 0.6464\n"
     ]
    }
   ],
   "source": [
    "model=RandomForestRegressor(max_features=X_train_transformed.shape[1], random_state=55, n_jobs=-1)\n",
    "model.fit(X_train_transformed, y_train)\n",
    "y_pred = model.predict(X_test_transformed)\n",
    "mse = mean_squared_error(y_test, y_pred)\n",
    "r2 = r2_score(y_test, y_pred)\n",
    "results[\"Bagging\"] = {\"MSE\": mse, \"R2\": r2}\n",
    "print(f\"Bagging - MSE: {mse:.4f}, R2: {r2:.4f}\")"
   ]
  },
  {
   "cell_type": "code",
   "execution_count": 9,
   "id": "f2d43730-13f7-498f-9269-e453edb983bb",
   "metadata": {},
   "outputs": [
    {
     "name": "stdout",
     "output_type": "stream",
     "text": [
      "RandomForest - MSE: 3.5339, R2: 0.6553\n"
     ]
    }
   ],
   "source": [
    "model=RandomForestRegressor(max_features=int(X_train.shape[1]/2), random_state=55, n_jobs=-1)\n",
    "model.fit(X_train_transformed, y_train)\n",
    "y_pred = model.predict(X_test_transformed)\n",
    "mse = mean_squared_error(y_test, y_pred)\n",
    "r2 = r2_score(y_test, y_pred)\n",
    "results[\"RandomForest\"] = {\"MSE\": mse, \"R2\": r2}\n",
    "print(f\"RandomForest - MSE: {mse:.4f}, R2: {r2:.4f}\")"
   ]
  },
  {
   "cell_type": "code",
   "execution_count": 24,
   "id": "78a97ce0-3429-4b3e-bcbc-0932a8fa079e",
   "metadata": {},
   "outputs": [
    {
     "name": "stdout",
     "output_type": "stream",
     "text": [
      "BART - MSE: 3.8604, R2: 0.6234\n"
     ]
    }
   ],
   "source": [
    "bart_model = BART(burnin=5, ndraw=15, random_state=55)\n",
    "bart_model.fit(X_train_transformed, y_train)\n",
    "y_pred_bart = bart_model.predict(X_test_transformed)\n",
    "mse_bart = mean_squared_error(y_test, y_pred_bart)\n",
    "r2_bart = r2_score(y_test, y_pred_bart)\n",
    "results[\"BART\"] = {\"MSE\": mse_bart, \"R2\": r2_bart}\n",
    "print(f\"BART - MSE: {mse_bart:.4f}, R2: {r2_bart:.4f}\")"
   ]
  },
  {
   "cell_type": "code",
   "execution_count": 11,
   "id": "79378422-a699-4462-94a8-6829565fffad",
   "metadata": {},
   "outputs": [
    {
     "name": "stdout",
     "output_type": "stream",
     "text": [
      "LinearRegression: MSE = 4.0957, R2 = 0.6005\n",
      "Boosting: MSE = 3.5634, R2 = 0.6524\n",
      "Bagging: MSE = 3.6247, R2 = 0.6464\n",
      "RandomForest: MSE = 3.5339, R2 = 0.6553\n"
     ]
    }
   ],
   "source": [
    "for model, metrics in results.items():\n",
    "    print(f\"{model}: MSE = {metrics['MSE']:.4f}, R2 = {metrics['R2']:.4f}\")"
   ]
  },
  {
   "cell_type": "markdown",
   "id": "416f093c-05bb-4204-a2ec-d280cf37fb96",
   "metadata": {},
   "source": [
    "Random Forest performs best with lowest MSE (3.5339) and highest R² (0.6553), meaning it explains ~65.5% of the variance in the test data — better than all other models.  \n",
    "Linear Regression performs the worst, affirming that the relationships in the data are nonlinear and benefit from ensemble modeling."
   ]
  }
 ],
 "metadata": {
  "kernelspec": {
   "display_name": "Python 3 (ipykernel)",
   "language": "python",
   "name": "python3"
  },
  "language_info": {
   "codemirror_mode": {
    "name": "ipython",
    "version": 3
   },
   "file_extension": ".py",
   "mimetype": "text/x-python",
   "name": "python",
   "nbconvert_exporter": "python",
   "pygments_lexer": "ipython3",
   "version": "3.12.4"
  }
 },
 "nbformat": 4,
 "nbformat_minor": 5
}
